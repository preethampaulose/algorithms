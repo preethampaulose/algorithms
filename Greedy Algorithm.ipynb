{
 "cells": [
  {
   "cell_type": "code",
   "execution_count": 1,
   "id": "elder-admission",
   "metadata": {},
   "outputs": [],
   "source": [
    "# You pass an array in, and it gets converted to a set.\n",
    "states_needed = set([\"mt\", \"wa\", \"or\", \"id\", \"nv\", \"ut\", \"ca\", \"az\"])\n",
    "\n",
    "stations = {}\n",
    "stations[\"kone\"] = set([\"id\", \"nv\", \"ut\"])\n",
    "stations[\"ktwo\"] = set([\"wa\", \"id\", \"mt\"])\n",
    "stations[\"kthree\"] = set([\"or\", \"nv\", \"ca\"])\n",
    "stations[\"kfour\"] = set([\"nv\", \"ut\"])\n",
    "stations[\"kfive\"] = set([\"ca\", \"az\"])\n",
    "\n",
    "final_stations = set()"
   ]
  },
  {
   "cell_type": "markdown",
   "id": "young-delicious",
   "metadata": {},
   "source": [
    "\n",
    "    A set union means “combine both sets.”\n",
    "    A set intersection means “find the items that show up in both sets” (in this case, just the tomato).\n",
    "    A set difference means “subtract the items in one set from the items in the other set.”\n",
    "    \n",
    "    \n",
    "-    Sets are like lists, except sets can’t have duplicates.\n",
    "-    You can do some interesting operations on sets, like union, intersection, and difference.\n",
    "\n"
   ]
  },
  {
   "cell_type": "code",
   "execution_count": 2,
   "id": "irish-association",
   "metadata": {},
   "outputs": [],
   "source": [
    "while states_needed:\n",
    "  best_station = None\n",
    "  states_covered = set()\n",
    "  for station, states_for_station in stations.items():\n",
    "    covered = states_needed & states_for_station\n",
    "    if len(covered) > len(states_covered):\n",
    "      best_station = station\n",
    "      states_covered = covered\n",
    "\n",
    "  states_needed -= states_covered\n",
    "  final_stations.add(best_station)"
   ]
  },
  {
   "cell_type": "code",
   "execution_count": 3,
   "id": "vocal-option",
   "metadata": {},
   "outputs": [
    {
     "name": "stdout",
     "output_type": "stream",
     "text": [
      "{'kthree', 'kfive', 'ktwo', 'kone'}\n"
     ]
    }
   ],
   "source": [
    "print(final_stations)"
   ]
  }
 ],
 "metadata": {
  "kernelspec": {
   "display_name": "Python 3",
   "language": "python",
   "name": "python3"
  },
  "language_info": {
   "codemirror_mode": {
    "name": "ipython",
    "version": 3
   },
   "file_extension": ".py",
   "mimetype": "text/x-python",
   "name": "python",
   "nbconvert_exporter": "python",
   "pygments_lexer": "ipython3",
   "version": "3.7.10"
  }
 },
 "nbformat": 4,
 "nbformat_minor": 5
}
